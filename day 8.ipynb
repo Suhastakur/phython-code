{
 "cells": [
  {
   "cell_type": "code",
   "execution_count": 4,
   "id": "67fe5fba",
   "metadata": {},
   "outputs": [
    {
     "name": "stdout",
     "output_type": "stream",
     "text": [
      "45\n",
      "element found at:  7\n"
     ]
    }
   ],
   "source": [
    "L=[23,45,56,44,57,78,98,54,43,34,35,68,96,24,76]\n",
    "L.sort()\n",
    "low = 0\n",
    "high = len(L)\n",
    "mid=int(low+high/2)\n",
    "src=int(input())\n",
    "Flog=1\n",
    "if src>L[mid]:\n",
    "    high=mid-1\n",
    "elif src<L[mid]:\n",
    "     low=mid+1\n",
    "else:\n",
    "    Flag=1\n",
    "print(\"element found at: \",mid)"
   ]
  },
  {
   "cell_type": "code",
   "execution_count": 1,
   "id": "b42501ba",
   "metadata": {},
   "outputs": [
    {
     "name": "stdout",
     "output_type": "stream",
     "text": [
      "thi[s is ( { } \n",
      "Invalid String\n"
     ]
    }
   ],
   "source": [
    "#voild string\n",
    "s=input()\n",
    "S=[] \n",
    "for c in S:\n",
    "    match (c):\n",
    "        case '(':x+=1\n",
    "        case ')':x-=1\n",
    "        case '{':y+=1\n",
    "        case '}':y-=1\n",
    "        case '[':z+=1\n",
    "        case ']':z-=1\n",
    "        case _: continue\n",
    "             \n",
    "    if x+y+z == 0:\n",
    "        \n",
    "        print(\"Valid string\")\n",
    "else:\n",
    "    print(\"Invalid String\")"
   ]
  },
  {
   "cell_type": "code",
   "execution_count": 2,
   "id": "241d9850",
   "metadata": {},
   "outputs": [
    {
     "name": "stdout",
     "output_type": "stream",
     "text": [
      "{1: 'push', 2: 'pop', 3: 'display'}\n",
      "Enter choice:4\n"
     ]
    }
   ],
   "source": [
    "S=[2,35,23,34,53,87,21,43]\n",
    "di={1:'push',2:'pop',3:'display'}\n",
    "print(di)\n",
    "ch=int(input('Enter choice:'))\n",
    "if ch==1:\n",
    "    e=input('Enter element:')\n",
    "    S.append(e)\n",
    "    print(S)\n",
    "elif ch==2:\n",
    "    e=S.pop()\n",
    "    print(f'{e} poped')\n",
    "    print(S)\n",
    "else:\n",
    "    for i in range(len(S),0):\n",
    "        print(S[i],end=' ')"
   ]
  },
  {
   "cell_type": "code",
   "execution_count": 5,
   "id": "04271c5c",
   "metadata": {},
   "outputs": [
    {
     "name": "stdout",
     "output_type": "stream",
     "text": [
      "Item added to stack\n",
      "Item added to stack\n",
      "Item added to stack\n",
      "Item added to stack\n",
      "[2, 35, 23, 34, 53, 87, 21, 43]\n"
     ]
    }
   ],
   "source": [
    "def add(E):\n",
    "    s.append(E)\n",
    "    print(\"Item added to stack\")\n",
    "    \n",
    "def delete():\n",
    "    S.pop(S)\n",
    "    print(\"Item Removed from stack\")\n",
    "    \n",
    "s=[]\n",
    "add(2)\n",
    "add(3)\n",
    "add(5)\n",
    "add(4)\n",
    "\n",
    "\n",
    "print(S)"
   ]
  },
  {
   "cell_type": "code",
   "execution_count": 14,
   "id": "8f887626",
   "metadata": {},
   "outputs": [
    {
     "name": "stdout",
     "output_type": "stream",
     "text": [
      "[2, 35, 23, 34, 53, 87, 21, 43, 75]\n",
      "[2, 35, 23, 34, 53, 87, 21, 43, 75, 37]\n",
      "37 poped\n",
      "[2, 35, 23, 34, 53, 87, 21, 43, 75]\n",
      "75 poped\n",
      "[2, 35, 23, 34, 53, 87, 21, 43]\n"
     ]
    }
   ],
   "source": [
    "def push(e):\n",
    "    s.append(e)\n",
    "    print(s)\n",
    "    \n",
    "def pop():\n",
    "    e=s.pop()\n",
    "    print(f'{e} poped')\n",
    "    print(s)\n",
    "    \n",
    "s=[2,35,23,34,53,87,21,43]\n",
    "push(75)\n",
    "push(37)\n",
    "pop()\n",
    "pop()"
   ]
  },
  {
   "cell_type": "code",
   "execution_count": 18,
   "id": "04f5a5b6",
   "metadata": {},
   "outputs": [
    {
     "name": "stdout",
     "output_type": "stream",
     "text": [
      "[2, 35, 23, 34, 53, 87, 21, 43, 58]\n",
      "[2, 35, 23, 34, 53, 87, 21, 43, 58, 34]\n",
      "[35, 23, 34, 53, 87, 21, 43, 58, 34]\n",
      "[23, 34, 53, 87, 21, 43, 58, 34]\n"
     ]
    }
   ],
   "source": [
    "def insert(p):\n",
    "    Q.append(p)\n",
    "    print(Q)\n",
    "    \n",
    "def delete():\n",
    "    Q.remove(Q[0])\n",
    "    print(Q)\n",
    "    \n",
    "Q=[2,35,23,34,53,87,21,43]\n",
    "insert(58)\n",
    "insert(34)\n",
    "delete()\n",
    "delete()"
   ]
  },
  {
   "cell_type": "code",
   "execution_count": null,
   "id": "c8a5aa26",
   "metadata": {},
   "outputs": [],
   "source": []
  }
 ],
 "metadata": {
  "kernelspec": {
   "display_name": "Python 3 (ipykernel)",
   "language": "python",
   "name": "python3"
  },
  "language_info": {
   "codemirror_mode": {
    "name": "ipython",
    "version": 3
   },
   "file_extension": ".py",
   "mimetype": "text/x-python",
   "name": "python",
   "nbconvert_exporter": "python",
   "pygments_lexer": "ipython3",
   "version": "3.11.0"
  }
 },
 "nbformat": 4,
 "nbformat_minor": 5
}
