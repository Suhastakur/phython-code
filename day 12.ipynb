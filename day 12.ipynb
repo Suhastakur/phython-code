{
 "cells": [
  {
   "cell_type": "code",
   "execution_count": 4,
   "id": "f6cc68e6",
   "metadata": {},
   "outputs": [
    {
     "name": "stdout",
     "output_type": "stream",
     "text": [
      "1 \n",
      "2 3 \n",
      "4 6 7 5 \n",
      "8 13 12 9 \n",
      "<function levelorder at 0x00000253F498CCC0>\n"
     ]
    }
   ],
   "source": [
    "#LevelOrder\n",
    "class node:\n",
    "    def __init__(self,value):\n",
    "        self.data=value\n",
    "        self.left=None\n",
    "        self.right=None\n",
    "\n",
    "def levelorder(root):\n",
    "    Q=[root,None]\n",
    "    while Q:\n",
    "        curr = Q.pop(0)\n",
    "        if curr == None:\n",
    "            print()\n",
    "            if Q:\n",
    "                Q.append(curr)\n",
    "        else:\n",
    "            print(curr.data,end=\" \")\n",
    "            if curr.left != None:\n",
    "                Q.append(curr.left)\n",
    "            if curr.right != None:\n",
    "                Q.append(curr.right)\n",
    "                \n",
    "                \n",
    "root = node(1)\n",
    "root.left= node(2)\n",
    "root.right = node(3)\n",
    "\n",
    "root.left.left = node(4)\n",
    "root.right.right = node(5)\n",
    "\n",
    "root.left.right = node(6)\n",
    "root.right.left = node(7)\n",
    "\n",
    "root.left.left.left = node(8)\n",
    "root.right.right.right = node(9)\n",
    "\n",
    "root.left.right.left = node(10)\n",
    "root.right.left.right = node(11)\n",
    "\n",
    "root.right.left.right = node(12)\n",
    "root.left.right.left = node(13)\n",
    "\n",
    "levelorder(root)\n",
    "print(levelorder)"
   ]
  },
  {
   "cell_type": "markdown",
   "id": "38510d09",
   "metadata": {},
   "source": [
    "graph:-\n",
    "\n"
   ]
  }
 ],
 "metadata": {
  "kernelspec": {
   "display_name": "Python 3 (ipykernel)",
   "language": "python",
   "name": "python3"
  },
  "language_info": {
   "codemirror_mode": {
    "name": "ipython",
    "version": 3
   },
   "file_extension": ".py",
   "mimetype": "text/x-python",
   "name": "python",
   "nbconvert_exporter": "python",
   "pygments_lexer": "ipython3",
   "version": "3.11.0"
  }
 },
 "nbformat": 4,
 "nbformat_minor": 5
}
