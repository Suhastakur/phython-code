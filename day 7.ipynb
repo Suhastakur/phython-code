{
 "cells": [
  {
   "cell_type": "markdown",
   "id": "08c7d1d7",
   "metadata": {},
   "source": [
    "time complexity: \n",
    "There are mainly three asymptotic notations:\n",
    "\n",
    "Big-O Notation (O-notation):-normal case\n",
    "Omega Notation (Ω-notation):-best case\n",
    "Theta Notation (Θ-notation):-average case\n",
    "\n",
    "space comlexity:-\n",
    "content space:\n",
    "linear space:"
   ]
  },
  {
   "cell_type": "code",
   "execution_count": 16,
   "id": "9f11b6dc",
   "metadata": {},
   "outputs": [
    {
     "name": "stdout",
     "output_type": "stream",
     "text": [
      "22 23 24\n",
      "21\n"
     ]
    }
   ],
   "source": [
    "L=[2,4,6,1,3,7,4,6,9,3,6,8,3,6,4,1,3,9,6,4,5,6,6,8,7,3,6,8]\n",
    "\n",
    "#find the maximum sum of any 3 consecutive elements of this array.\n",
    "ma=0\n",
    "for i in range (len(L)-2): \n",
    "            if ma<(L[i]+L[i+1]+L[i+2]):\n",
    "                ma=L[i]+L[i+1]+L[i+2]\n",
    "                a,b,c=i,i+1,i+2\n",
    "print(a,b,c) \n",
    "print(ma)\n"
   ]
  },
  {
   "cell_type": "code",
   "execution_count": 12,
   "id": "b0dbd5cd",
   "metadata": {},
   "outputs": [
    {
     "name": "stdout",
     "output_type": "stream",
     "text": [
      "19\n"
     ]
    }
   ],
   "source": [
    "L=[2,4,6,1,3,7,4,6,9,3,6,8,3,6,4,1,3,9,6,4,5,6,8,3,7,3,6,8]\n",
    "#find the maximum sum of any 3 consecutive elements of this array.\n",
    "max=0\n",
    "for x in range (len(L)-2):\n",
    "    sum = L[x]+L[x+1]+L[x+2]\n",
    "    if(max<sum):\n",
    "        max=sum\n",
    "        \n",
    "print(max)"
   ]
  },
  {
   "cell_type": "code",
   "execution_count": 29,
   "id": "71b07d63",
   "metadata": {},
   "outputs": [
    {
     "name": "stdout",
     "output_type": "stream",
     "text": [
      "26\n"
     ]
    }
   ],
   "source": [
    "L=[2,4,6,1,3,7,4,6,9,3,6,8,3,6,4,1,3,9,6,4,5,6,8,3,7,3,6,8]\n",
    "#find the maximum sum of any 4 consecutive elements of this array.\n",
    "max=0\n",
    "for x in range (len(L)-3):\n",
    "    sum = L[x]+L[x+1]+L[x+2]+L[x+3]\n",
    "    if(max<sum):\n",
    "        max=sum\n",
    "        \n",
    "print(max)"
   ]
  },
  {
   "cell_type": "code",
   "execution_count": 33,
   "id": "c121b231",
   "metadata": {},
   "outputs": [
    {
     "name": "stdout",
     "output_type": "stream",
     "text": [
      "43\n"
     ]
    }
   ],
   "source": [
    "L=[2,4,6,1,3,7,4,6,9,3,6,8,3,6,4,1,3,9,6,4,5,6,8,3,7,3,6,8]\n",
    "#find the maximum sum of any 6 consecutive elements of this array.\n",
    "max=0\n",
    "for x in range (0,len(L)-6):\n",
    "    sum = L[x]+L[x+1]+L[x+2]+L[x+3]+L[x+4]+L[x+5]+L[x+6]\n",
    "    if(max<sum):\n",
    "        max=sum\n",
    "        \n",
    "print(max)"
   ]
  },
  {
   "cell_type": "code",
   "execution_count": 34,
   "id": "9cb3da6a",
   "metadata": {},
   "outputs": [
    {
     "name": "stdout",
     "output_type": "stream",
     "text": [
      "57\n"
     ]
    }
   ],
   "source": [
    "L=[2,4,6,1,3,7,4,6,9,3,6,8,3,6,4,1,3,9,6,4,5,6,8,3,7,3,6,8]\n",
    "#find the maximum sum of any 10 consecutive elements of this array.\n",
    "max=0\n",
    "for x in range (len(L)-9):\n",
    "    sum = L[x]+L[x+1]+L[x+2]+L[x+3]+L[x+4]+L[x+5]+L[x+6]+L[x+7]+L[x+8]+L[x+9]\n",
    "    if(max<sum):\n",
    "        max=sum\n",
    "        \n",
    "print(max)"
   ]
  },
  {
   "cell_type": "code",
   "execution_count": 3,
   "id": "ca39e682",
   "metadata": {},
   "outputs": [
    {
     "name": "stdout",
     "output_type": "stream",
     "text": [
      "Enter consecutive number: 3\n",
      "9\n"
     ]
    }
   ],
   "source": [
    "L=[2,4,6,1,3,7,4,6,9,3,6,8,3,6,4,1,3,9,6,4,5,6,8,3,7,3,6,8]\n",
    "#find the maximum sum of any 3 consecutive elements of this array.\n",
    "max=0\n",
    "\n",
    "con=int(input('Enter consecutive number: '))\n",
    "\n",
    "for x in range(0,len(L)-1):\n",
    "    s=0\n",
    "    for j in range(0,1):\n",
    "        s=s+L[x+j]\n",
    "    if max<s:\n",
    "        max=s\n",
    "        \n",
    "print(max)\n",
    "        "
   ]
  },
  {
   "cell_type": "code",
   "execution_count": 16,
   "id": "fbad28da",
   "metadata": {},
   "outputs": [
    {
     "name": "stdout",
     "output_type": "stream",
     "text": [
      "[1, 2, 3, 4, 5, 6, 7, 8, 9]\n"
     ]
    }
   ],
   "source": [
    "#bubble sorting\n",
    "l=[3,5,2,6,7,4,8,1,9]\n",
    "for i in range(len(l)):\n",
    "    for j in range(i+1,len(l)):\n",
    "        if l[i]>l[j]:\n",
    "            l[i],l[j]=l[j],l[i]\n",
    "\n",
    "print(l)\n",
    "  \n"
   ]
  },
  {
   "cell_type": "code",
   "execution_count": 1,
   "id": "35eef203",
   "metadata": {},
   "outputs": [
    {
     "name": "stdout",
     "output_type": "stream",
     "text": [
      "[1, 2, 3, 4, 5, 6, 7, 8]\n"
     ]
    }
   ],
   "source": [
    "#bubble sort\n",
    "arr=[2,4,8,7,1,3,5,6]\n",
    "for i in range(0,len(arr)):\n",
    "    for j in range(0,len(arr)-1):\n",
    "        if arr[j]>arr[j+1]:\n",
    "            temp=arr[j]\n",
    "            arr[j]=arr[j+1]\n",
    "            arr[j+1]=temp\n",
    "            \n",
    "print(arr)"
   ]
  },
  {
   "cell_type": "code",
   "execution_count": 4,
   "id": "5cb6f5e8",
   "metadata": {},
   "outputs": [
    {
     "name": "stdout",
     "output_type": "stream",
     "text": [
      "[1, 4, 5, 6, 7, 8, 9]\n"
     ]
    }
   ],
   "source": [
    "#insertion sort\n",
    "arr=[5,4,8,1,9,6,7]\n",
    "for i in range(1,len(arr)):\n",
    "    temp=arr[i]\n",
    "    j=i-1\n",
    "    while j>=0 and temp < arr[j]:\n",
    "        arr[j+1] =arr[j]\n",
    "        j -=1\n",
    "    arr[j+1] = temp\n",
    "\n",
    "print(arr)"
   ]
  },
  {
   "cell_type": "code",
   "execution_count": 6,
   "id": "5795d946",
   "metadata": {},
   "outputs": [
    {
     "name": "stdout",
     "output_type": "stream",
     "text": [
      "[1, 4, 5, 6, 7, 8, 9]\n"
     ]
    }
   ],
   "source": [
    "#selection sort\n",
    "arr=[5,4,8,1,9,6,7]\n",
    "for i in range(0,len(arr)):\n",
    "    min_idx=i\n",
    "    for j in range(i+1,len(arr)):\n",
    "        if arr[min_idx]>arr[j]:\n",
    "            min_idx=j\n",
    "    temp=arr[i]\n",
    "    arr[i]=arr[min_idx]\n",
    "    arr[min_idx]=temp\n",
    "    \n",
    "print(arr)"
   ]
  },
  {
   "cell_type": "code",
   "execution_count": null,
   "id": "377b3ac4",
   "metadata": {},
   "outputs": [],
   "source": []
  }
 ],
 "metadata": {
  "kernelspec": {
   "display_name": "Python 3 (ipykernel)",
   "language": "python",
   "name": "python3"
  },
  "language_info": {
   "codemirror_mode": {
    "name": "ipython",
    "version": 3
   },
   "file_extension": ".py",
   "mimetype": "text/x-python",
   "name": "python",
   "nbconvert_exporter": "python",
   "pygments_lexer": "ipython3",
   "version": "3.11.0"
  }
 },
 "nbformat": 4,
 "nbformat_minor": 5
}
