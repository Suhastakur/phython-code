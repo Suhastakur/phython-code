{
 "cells": [
  {
   "cell_type": "code",
   "execution_count": 6,
   "id": "1ed6e23e-ec08-4580-a7e6-d39ccb359895",
   "metadata": {},
   "outputs": [
    {
     "name": "stdout",
     "output_type": "stream",
     "text": [
      "1\n",
      "3\n",
      "5\n",
      "6\n",
      "4.6\n",
      "amigo\n"
     ]
    }
   ],
   "source": [
    "r=[1,3,5,6,4.6,\"amigo\"]\n",
    "for i in range(0,6):\n",
    "    print(r[i])"
   ]
  },
  {
   "cell_type": "code",
   "execution_count": 20,
   "id": "40732837-ac7c-40b7-bd20-400ceda6cb41",
   "metadata": {},
   "outputs": [
    {
     "name": "stdout",
     "output_type": "stream",
     "text": [
      "[1, 2, 3, 4, 5]\n",
      "[1, 2, 3, 4, 5, 27]\n",
      "[1, 2, 3, 5, 27]\n",
      "[1, 2, 3, 5, 27, 27, 7, 7]\n",
      "2\n",
      "[1, 2, 3, 5, 27, 40, 27, 7, 7]\n",
      "[1, 2, 3, 5, 40, 27, 7, 7]\n",
      "[40, 27, 7, 7, 5, 3, 2, 1]\n",
      "8\n",
      "[40, 27, 7, 7, 5, 3, 2, 1, 1, 2, 3, 4, 5]\n"
     ]
    }
   ],
   "source": [
    "a=[1,2,3,4,5]\n",
    "b=a.copy()\n",
    "print(b)\n",
    "\n",
    "b.append(27)\n",
    "print(b)\n",
    "\n",
    "b.pop(3)\n",
    "print(b)\n",
    "b.append(27)\n",
    "b.append(7)\n",
    "b.append(7)\n",
    "print(b)\n",
    "print(b.count(27))\n",
    "b.insert(5,40)\n",
    "print(b)\n",
    "b.remove(27)\n",
    "print(b)\n",
    "b.sort(reverse=True)\n",
    "print(b)\n",
    "print(len(b))\n",
    "b.extend(a)\n",
    "print(b)"
   ]
  },
  {
   "cell_type": "code",
   "execution_count": null,
   "id": "2d5bd8c9-10af-40fc-ba61-34e7ee739b44",
   "metadata": {},
   "outputs": [],
   "source": [
    "a=[]\n",
    "n=int(input(\"enter the elements:\"))\n",
    "for x in range(0,n):\n",
    "    b=input()\n",
    "    a.append(b)\n",
    "print(a)"
   ]
  },
  {
   "cell_type": "code",
   "execution_count": null,
   "id": "376132c1-c659-45bf-bac5-85061776d498",
   "metadata": {},
   "outputs": [],
   "source": [
    "z=[1,2,3,7,8,9]\n",
    "for i in range(5,-1,-1):\n",
    "    print(z[i])"
   ]
  },
  {
   "cell_type": "code",
   "execution_count": null,
   "id": "177636b3-944d-4795-b2f8-32a88656cbfa",
   "metadata": {},
   "outputs": [],
   "source": [
    "a=[1,2,3,4,5]\n",
    "for i in range(0,len(a)):\n",
    "  print(a[-1*(i+1)])"
   ]
  },
  {
   "cell_type": "code",
   "execution_count": null,
   "id": "87dfca4a-0f7d-4f24-ae22-c5d661652eab",
   "metadata": {},
   "outputs": [],
   "source": [
    "k=[1,4,5,7,8,9,0,1,23,27]\n",
    "z=int(input(\"enter the index:\"))\n",
    "try:\n",
    "   print(k[z])\n",
    "except:\n",
    "  print(\"there is no such index\")\n",
    "\n",
    "\n"
   ]
  },
  {
   "cell_type": "code",
   "execution_count": 16,
   "id": "515170db-5e62-48d6-87a9-b81a1dc9bf82",
   "metadata": {},
   "outputs": [
    {
     "name": "stdout",
     "output_type": "stream",
     "text": [
      "cannot add string\n",
      "18\n"
     ]
    }
   ],
   "source": [
    "a=[1,2,\"three\",4,5,6]\n",
    "s=0\n",
    "for i in a:\n",
    "    try:\n",
    "        s+=i\n",
    "    except:\n",
    "        print(\"cannot add string\")\n",
    "print(s)"
   ]
  },
  {
   "cell_type": "code",
   "execution_count": null,
   "id": "d8f1495b-057b-49e7-ae93-d02e84cdd6e6",
   "metadata": {},
   "outputs": [],
   "source": [
    "###### a = []\r\n",
    "n = int(input(\"Enter the number of elements in the list: \"))\r\n",
    "for x in range(n):\r\n",
    "    element = input(\"Enter element: \")\r\n",
    "    a.append(element)\r\n",
    "\r\n",
    "s = 0\r\n",
    "\r\n",
    "for i in a:\r\n",
    "    try:\r\n",
    "        s += int(i)  \r\n",
    "    except:\r\n",
    "        print(\"Cannot add non-numeric value\")\r\n",
    "\r\n",
    "print(\"Sum of numeric values in the list:\", s)"
   ]
  },
  {
   "cell_type": "code",
   "execution_count": null,
   "id": "832a539c-30d5-49c8-b42c-0d9a8c2d80a6",
   "metadata": {},
   "outputs": [],
   "source": []
  },
  {
   "cell_type": "code",
   "execution_count": null,
   "id": "9232b630-0466-41dd-839b-add7af0c0194",
   "metadata": {},
   "outputs": [],
   "source": []
  }
 ],
 "metadata": {
  "kernelspec": {
   "display_name": "Python 3 (ipykernel)",
   "language": "python",
   "name": "python3"
  },
  "language_info": {
   "codemirror_mode": {
    "name": "ipython",
    "version": 3
   },
   "file_extension": ".py",
   "mimetype": "text/x-python",
   "name": "python",
   "nbconvert_exporter": "python",
   "pygments_lexer": "ipython3",
   "version": "3.12.3"
  }
 },
 "nbformat": 4,
 "nbformat_minor": 5
}
