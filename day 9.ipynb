{
 "cells": [
  {
   "cell_type": "code",
   "execution_count": 6,
   "id": "935b23e6",
   "metadata": {},
   "outputs": [
    {
     "name": "stdout",
     "output_type": "stream",
     "text": [
      "9\n",
      "8\n",
      "7\n",
      "6\n",
      "5\n",
      "4\n",
      "3\n",
      "2\n",
      "1\n"
     ]
    }
   ],
   "source": [
    "a=(1,2,3,4,5,6,7,8,9)\n",
    "for x in range (0,len(a)):\n",
    "    print(a[-1*(x+1)])"
   ]
  },
  {
   "cell_type": "code",
   "execution_count": 8,
   "id": "e840b88c",
   "metadata": {},
   "outputs": [
    {
     "name": "stdout",
     "output_type": "stream",
     "text": [
      "this is a car\n",
      "rac a si siht"
     ]
    }
   ],
   "source": [
    "#reverse the letter\n",
    "a=input()\n",
    "s=[]\n",
    "for e in a:\n",
    "    s.append(e)\n",
    "    \n",
    "while len(s)>0:\n",
    "    print(s.pop(),end=\"\")"
   ]
  },
  {
   "cell_type": "code",
   "execution_count": 9,
   "id": "79941859",
   "metadata": {},
   "outputs": [
    {
     "name": "stdout",
     "output_type": "stream",
     "text": [
      "this is a car\n",
      "13\n",
      "r\n",
      "12\n",
      "a\n",
      "11\n",
      "c\n",
      "10\n",
      " \n",
      "9\n",
      "a\n",
      "8\n",
      " \n",
      "7\n",
      "s\n",
      "6\n",
      "i\n",
      "5\n",
      " \n",
      "4\n",
      "s\n",
      "3\n",
      "i\n",
      "2\n",
      "h\n",
      "1\n",
      "t\n"
     ]
    }
   ],
   "source": [
    "a=input()\n",
    "s=[]\n",
    "for e in a:\n",
    "    s.append(e)\n",
    "    \n",
    "while len(s)>0:\n",
    "    print(len(s))\n",
    "    print(s.pop())"
   ]
  },
  {
   "cell_type": "code",
   "execution_count": 6,
   "id": "fdc454b1",
   "metadata": {},
   "outputs": [
    {
     "name": "stdout",
     "output_type": "stream",
     "text": [
      "this is a car\n",
      "car a is this "
     ]
    }
   ],
   "source": [
    "a=input()\n",
    "s=[]\n",
    "for e in a.split():\n",
    "    s.append(e)\n",
    "    \n",
    "while len(s)>0:\n",
    "    print(s.pop(),end=' ')"
   ]
  },
  {
   "cell_type": "code",
   "execution_count": 3,
   "id": "e76b3113",
   "metadata": {},
   "outputs": [
    {
     "name": "stdout",
     "output_type": "stream",
     "text": [
      "(a+b)*c\n",
      " ab+c*\n"
     ]
    }
   ],
   "source": [
    "#postfix expression\n",
    "def prec(e):\n",
    "    if e ==\"^\":\n",
    "        return 3\n",
    "    elif e ==\"+\" or e == \"/\":\n",
    "        return 2\n",
    "    elif e ==\"+\" or e == \"-\":\n",
    "        return 1\n",
    "    else:\n",
    "        return -1\n",
    "\n",
    "\n",
    "exp = input()\n",
    "S=[]\n",
    "result=\" \"\n",
    "for e in exp:\n",
    "    if e.isalnum():\n",
    "        result +=e\n",
    "    elif e == '(':\n",
    "        S.append(e)\n",
    "    elif e == ')':\n",
    "        while S[-1] !='(':\n",
    "            result +=S.pop()\n",
    "        S.pop()\n",
    "    else:\n",
    "        while S and (prec(e)<prec(S[-1]) or \n",
    "                    (prec(e)==prec(S[-1]) and asoc(e)=='L')):\n",
    "            result +=S.pop()\n",
    "        S.append(e)\n",
    "while S:\n",
    "    result += S.pop()\n",
    "    \n",
    "print(result)"
   ]
  },
  {
   "cell_type": "code",
   "execution_count": 15,
   "id": "b7105541",
   "metadata": {},
   "outputs": [
    {
     "name": "stdout",
     "output_type": "stream",
     "text": [
      "A D C R R A A D R D C C\n",
      "['A', 'D', 'C', 'R', 'R', 'A', 'A', 'D', 'R', 'D', 'C', 'C']\n",
      "6 ['A', 'D', 'C', 'D', 'R', 'D']\n"
     ]
    }
   ],
   "source": [
    "a=[item for item in input().split()]\n",
    "print(a)\n",
    "S=[]\n",
    "for item in a:\n",
    "    if not S:\n",
    "        S.append(item)\n",
    "    elif S[-1] == item:\n",
    "        S.pop()\n",
    "    else:\n",
    "        S.append(item)\n",
    "print(len(S),S)"
   ]
  },
  {
   "cell_type": "code",
   "execution_count": 16,
   "id": "86e65f13",
   "metadata": {},
   "outputs": [
    {
     "name": "stdout",
     "output_type": "stream",
     "text": [
      "A D C R R A A C R D C C A D R D\n",
      "['A', 'D', 'C', 'R', 'R', 'A', 'A', 'C', 'R', 'D', 'C', 'C', 'A', 'D', 'R', 'D']\n",
      "8 ['A', 'D', 'R', 'D', 'A', 'D', 'R', 'D']\n"
     ]
    }
   ],
   "source": [
    "a=[item for item in input().split()]\n",
    "print(a)\n",
    "S=[]\n",
    "for item in a:\n",
    "    if not S:\n",
    "        S.append(item)\n",
    "    elif S[-1] == item:\n",
    "        S.pop()\n",
    "    else:\n",
    "        S.append(item)\n",
    "print(len(S),S)"
   ]
  },
  {
   "cell_type": "code",
   "execution_count": 32,
   "id": "019c6891",
   "metadata": {},
   "outputs": [
    {
     "name": "stdout",
     "output_type": "stream",
     "text": [
      "({}){{()}}\n",
      "Invalid String\n"
     ]
    }
   ],
   "source": [
    "s=input()\n",
    "S=[]\n",
    "for c in s:\n",
    "    match (c):\n",
    "        case '()':x+=1\n",
    "        case '[]':x-=1\n",
    "        case '{}':y+=1\n",
    "        case '}{':y-=1\n",
    "        case ')(':z+=1\n",
    "        case '][':z-=1\n",
    "        case _: continue\n",
    "        \n",
    "    if x+y+z == 0:\n",
    "        \n",
    "        print(\"Valid String\")\n",
    "else:\n",
    "        print(\"Invalid String\")"
   ]
  },
  {
   "cell_type": "code",
   "execution_count": 21,
   "id": "30b0e7c4",
   "metadata": {},
   "outputs": [
    {
     "name": "stdout",
     "output_type": "stream",
     "text": [
      "({}){{()}}\n",
      "[]\n",
      "['(']\n",
      "['(', '{']\n",
      "['(']\n",
      "[]\n",
      "['{']\n",
      "['{', '{']\n",
      "['{', '{', '(']\n",
      "['{', '{']\n",
      "['{']\n",
      "valid\n"
     ]
    }
   ],
   "source": [
    "s=input()\n",
    "S=[]\n",
    "for e in s:\n",
    "    print(S)\n",
    "    if e == '(' or e ==\"{\" or e ==\"[\":\n",
    "        S.append(e)\n",
    "    elif (e == ')' and S[-1]=='(') or (e == '}' and S[-1]=='{') or (e ==']'and S[-1]=='{'):\n",
    "        S.pop()\n",
    "    else:\n",
    "        continue\n",
    "        \n",
    "if not S:\n",
    "    print(\"valid\")\n",
    "else:\n",
    "    print(\"invalid\")\n",
    "        "
   ]
  },
  {
   "cell_type": "code",
   "execution_count": 8,
   "id": "d123d188",
   "metadata": {},
   "outputs": [
    {
     "name": "stdout",
     "output_type": "stream",
     "text": [
      "120\n"
     ]
    }
   ],
   "source": [
    "def fun(x):\n",
    "    if x == 1:\n",
    "        return x\n",
    "    else:\n",
    "        return x*fun (x-1)\n",
    "\n",
    "print(fun(5))"
   ]
  },
  {
   "cell_type": "code",
   "execution_count": 8,
   "id": "955257f5",
   "metadata": {},
   "outputs": [
    {
     "name": "stdout",
     "output_type": "stream",
     "text": [
      "120\n"
     ]
    }
   ],
   "source": [
    "def factorial(n):\n",
    "    if n == 1:\n",
    "        return 1\n",
    "    else:\n",
    "        return n * factorial(n - 1)\n",
    "    \n",
    "print(fact(5))"
   ]
  },
  {
   "cell_type": "code",
   "execution_count": 1,
   "id": "f2f24953",
   "metadata": {},
   "outputs": [
    {
     "name": "stdout",
     "output_type": "stream",
     "text": [
      "120\n"
     ]
    }
   ],
   "source": [
    "def fact(n):\n",
    "    if n == 0:\n",
    "        return 1\n",
    "    else:\n",
    "        return n*fact(n-1)\n",
    "    \n",
    "\n",
    "print(fact(5))\n"
   ]
  },
  {
   "cell_type": "code",
   "execution_count": null,
   "id": "33fec636",
   "metadata": {},
   "outputs": [],
   "source": []
  }
 ],
 "metadata": {
  "kernelspec": {
   "display_name": "Python 3 (ipykernel)",
   "language": "python",
   "name": "python3"
  },
  "language_info": {
   "codemirror_mode": {
    "name": "ipython",
    "version": 3
   },
   "file_extension": ".py",
   "mimetype": "text/x-python",
   "name": "python",
   "nbconvert_exporter": "python",
   "pygments_lexer": "ipython3",
   "version": "3.11.0"
  }
 },
 "nbformat": 4,
 "nbformat_minor": 5
}
