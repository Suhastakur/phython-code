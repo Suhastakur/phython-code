{
 "cells": [
  {
   "cell_type": "code",
   "execution_count": 1,
   "id": "5be06384",
   "metadata": {},
   "outputs": [
    {
     "name": "stdout",
     "output_type": "stream",
     "text": [
      "2\n",
      "4\n",
      "6\n",
      "8\n",
      "10\n",
      "12\n",
      "14\n",
      "16\n",
      "18\n",
      "20\n"
     ]
    }
   ],
   "source": [
    "for i in range(1,11):\n",
    "    print(i*2)"
   ]
  },
  {
   "cell_type": "markdown",
   "id": "4fb1a543",
   "metadata": {},
   "source": [
    "loop:-\n",
    "initialization:- i+1\n",
    "condition:-range < 11\n",
    "updation:-i=i+1\n",
    "statement:-i*2"
   ]
  },
  {
   "cell_type": "code",
   "execution_count": 9,
   "id": "c92f35cc",
   "metadata": {},
   "outputs": [
    {
     "name": "stdout",
     "output_type": "stream",
     "text": [
      "Enter num: 3\n",
      "6\n"
     ]
    }
   ],
   "source": [
    "a=int(input('Enter num: '))\n",
    "fac=1\n",
    "for i in range(a,1,-1):\n",
    "    fac*=i\n",
    "\n",
    "print(fac)"
   ]
  },
  {
   "cell_type": "code",
   "execution_count": 16,
   "id": "670df1d5",
   "metadata": {},
   "outputs": [
    {
     "name": "stdout",
     "output_type": "stream",
     "text": [
      "1\n",
      "2\n",
      "6\n",
      "24\n",
      "120\n"
     ]
    }
   ],
   "source": [
    "def fact(n):\n",
    "    if n == 0:\n",
    "        return 1\n",
    "    else:\n",
    "        return n*fact(n-1)\n",
    "    \n",
    "\n",
    "print(fact(1))\n",
    "print(fact(2)) \n",
    "print(fact(3))\n",
    "print(fact(4))\n",
    "print(fact(5))"
   ]
  },
  {
   "cell_type": "code",
   "execution_count": 32,
   "id": "28c69ed2",
   "metadata": {},
   "outputs": [
    {
     "name": "stdout",
     "output_type": "stream",
     "text": [
      "<function fib at 0x00000281CFE7B920>\n"
     ]
    }
   ],
   "source": [
    "def fib(n):\n",
    "    if n == 1:\n",
    "        return 0\n",
    "    else:\n",
    "        return n * fab(n,1,-1)\n",
    "    \n",
    "\n",
    "print(fib)"
   ]
  },
  {
   "cell_type": "code",
   "execution_count": 36,
   "id": "68026286",
   "metadata": {},
   "outputs": [
    {
     "name": "stdout",
     "output_type": "stream",
     "text": [
      "[1, 2, 3, 4, 5, 6, 7, 8, 9]\n"
     ]
    }
   ],
   "source": [
    "#quickshort\n",
    "def findpi(ar,low,high):\n",
    "    pe=ar[high]\n",
    "    j=low-1\n",
    "    for i in range(low,high):\n",
    "        if pe>ar[i]:\n",
    "            j+=1\n",
    "            ar[i],ar[j]=ar[j],ar[i]      \n",
    "    ar[high],ar[j+1]=ar[j+1],ar[high]\n",
    "    return j+1\n",
    "\n",
    "def quicksort(ar,low,high):\n",
    "    if low < high:\n",
    "        pi = findpi(ar,low,high)\n",
    "        quicksort(ar,low,pi-1)\n",
    "        quicksort(ar,pi+1,high)\n",
    "#main\n",
    "ar = [3,5,7,2,4,8,1,9,6]\n",
    "quicksort(ar,0,len(ar)-1)\n",
    "print(ar)"
   ]
  },
  {
   "cell_type": "code",
   "execution_count": 2,
   "id": "e1366755",
   "metadata": {},
   "outputs": [
    {
     "name": "stdout",
     "output_type": "stream",
     "text": [
      "🍎\n",
      "🍌\n",
      "🐱\n",
      "🐕\n",
      "None\n",
      "<class '__main__.node'>\n",
      "<class '__main__.node'>\n",
      "<class '__main__.node'>\n",
      "<class '__main__.node'>\n"
     ]
    }
   ],
   "source": [
    "#linked list\n",
    "class node:\n",
    "    def __init__(self,data):\n",
    "        self.data=data\n",
    "        self.next=None\n",
    "        \n",
    "A=node('🍎')\n",
    "B=node('🍌')\n",
    "C=node('🐱')\n",
    "D=node('🐕')\n",
    "\n",
    "head=A\n",
    "head.next=B\n",
    "head.next.next=C\n",
    "head.next.next.next=D\n",
    "\n",
    "print(A.data)\n",
    "print(A.next.data)\n",
    "print(B.next.data)\n",
    "print(C.next.data)\n",
    "print(D.next)\n",
    "print(type(A.next))\n",
    "print(type(B.next))\n",
    "print(type(C.next))\n",
    "print(type(D))"
   ]
  },
  {
   "cell_type": "code",
   "execution_count": 4,
   "id": "11665d5e",
   "metadata": {},
   "outputs": [
    {
     "name": "stdout",
     "output_type": "stream",
     "text": [
      "Node 1 <__main__.node object at 0x00000152477CD310> 1\n",
      "Node 2 <__main__.node object at 0x0000015247744A50> 2\n",
      "Node 3 <__main__.node object at 0x00000152477CC8D0> 3\n",
      "Node 4 <__main__.node object at 0x00000152477CC3D0> 4\n"
     ]
    }
   ],
   "source": [
    "#linked list\n",
    "class node:\n",
    "    def __init__(self,data):\n",
    "        self.data=data\n",
    "        self.next=None\n",
    "        \n",
    "head=node(1)\n",
    "head.next=node(2)\n",
    "head.next.next=node(3)\n",
    "head.next.next.next=node(4)\n",
    "\n",
    "print(\"Node 1\",head,head.data)\n",
    "print(\"Node 2\",head.next,head.next.data)\n",
    "print(\"Node 3\",head.next.next,head.next.next.data)\n",
    "print(\"Node 4\",head.next.next.next,head.next.next.next.data)\n"
   ]
  },
  {
   "cell_type": "code",
   "execution_count": null,
   "id": "609541bb",
   "metadata": {},
   "outputs": [],
   "source": []
  }
 ],
 "metadata": {
  "kernelspec": {
   "display_name": "Python 3 (ipykernel)",
   "language": "python",
   "name": "python3"
  },
  "language_info": {
   "codemirror_mode": {
    "name": "ipython",
    "version": 3
   },
   "file_extension": ".py",
   "mimetype": "text/x-python",
   "name": "python",
   "nbconvert_exporter": "python",
   "pygments_lexer": "ipython3",
   "version": "3.11.0"
  }
 },
 "nbformat": 4,
 "nbformat_minor": 5
}
