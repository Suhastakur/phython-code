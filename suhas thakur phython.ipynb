{
 "cells": [
  {
   "cell_type": "code",
   "execution_count": 6,
   "id": "af3515fe-e32e-4b38-bcdd-a629c632b5b7",
   "metadata": {},
   "outputs": [
    {
     "name": "stdout",
     "output_type": "stream",
     "text": [
      "Second largest element: 30\n"
     ]
    }
   ],
   "source": [
    "def second_largest(numbers):\n",
    "    if len(numbers) < 2:\n",
    "        return \"List should contain at least two elements\"\n",
    "    \n",
    "    largest = max(numbers[0], numbers[1])\n",
    "    second_largest = min(numbers[0], numbers[1])\n",
    "    \n",
    "    for num in numbers[2:]:\n",
    "        if num > largest:\n",
    "            second_largest = largest\n",
    "            largest = num\n",
    "        elif num > second_largest and num != largest:\n",
    "            second_largest = num\n",
    "    \n",
    "    return second_largest\n",
    "\n",
    "numbers = [15, 40, 6, 8, 30]\n",
    "print(\"Second largest element:\", second_largest(numbers))"
   ]
  },
  {
   "cell_type": "code",
   "execution_count": 2,
   "id": "8d1b396a-1523-4d99-bd6b-ac67f479a4ad",
   "metadata": {},
   "outputs": [
    {
     "name": "stdin",
     "output_type": "stream",
     "text": [
      "Enter the temperature :  30\n"
     ]
    },
    {
     "name": "stdout",
     "output_type": "stream",
     "text": [
      "Temperature in Fahrenheit: 86.0\n"
     ]
    }
   ],
   "source": [
    "celsius=int(input(\"Enter the temperature : \"))\n",
    "fahrenheit = (celsius * 9/5) + 32\n",
    "print(\"Temperature in Fahrenheit:\", fahrenheit)\n"
   ]
  },
  {
   "cell_type": "code",
   "execution_count": 3,
   "id": "6d2d1a3c-016c-46a3-af2d-9c627bf289e5",
   "metadata": {},
   "outputs": [
    {
     "name": "stdin",
     "output_type": "stream",
     "text": [
      " suhas thakur\n"
     ]
    },
    {
     "name": "stdout",
     "output_type": "stream",
     "text": [
      "count: 4\n"
     ]
    }
   ],
   "source": [
    "text = input()\n",
    "count = 0\n",
    "for char in text:\n",
    "    if char in (\"aAeEiIoOuU\"):\n",
    "        count += 1\n",
    "print(\"count:\", count)"
   ]
  },
  {
   "cell_type": "code",
   "execution_count": 4,
   "id": "0376d1b8-e79b-4c95-9b60-18facd9c7560",
   "metadata": {},
   "outputs": [
    {
     "name": "stdout",
     "output_type": "stream",
     "text": [
      "Reversed sentence: thakur suhas hello\n"
     ]
    }
   ],
   "source": [
    "def reverse_sentence(sentence):\n",
    "    words = sentence.split()\n",
    "    reversed_words = words[::-1]\n",
    "    reversed_sentence = ' '.join(reversed_words)\n",
    "    return reversed_sentence\n",
    "\n",
    "input_sentence = \"hello  suhas thakur\"\n",
    "reversed_sentence = reverse_sentence(input_sentence)\n",
    "print(\"Reversed sentence:\", reversed_sentence)"
   ]
  },
  {
   "cell_type": "code",
   "execution_count": 5,
   "id": "b927a03d-a56c-41d8-99e0-1ff7324ab12f",
   "metadata": {},
   "outputs": [
    {
     "name": "stdout",
     "output_type": "stream",
     "text": [
      "30\n"
     ]
    }
   ],
   "source": [
    "def sum_of_even_numbers(lst):\n",
    "    total = 0\n",
    "    for num in lst:\n",
    "        if num % 2 == 0:\n",
    "            total += num\n",
    "    return total\n",
    "\n",
    "lst = [1, 2, 3, 4, 5, 6, 7, 8, 9,10]\n",
    "even_sum = sum_of_even_numbers(lst)\n",
    "print(even_sum)"
   ]
  },
  {
   "cell_type": "code",
   "execution_count": 7,
   "id": "9a6a7e01-c838-46b0-87a6-59901e3b9e1f",
   "metadata": {},
   "outputs": [
    {
     "name": "stdout",
     "output_type": "stream",
     "text": [
      "Counter({1: 4, 2: 3, 3: 2, 4: 1})\n"
     ]
    }
   ],
   "source": [
    "from collections import Counter\n",
    "\n",
    "def count_elements(lst):\n",
    "    return Counter(lst)\n",
    "\n",
    "lst = [1, 2, 3, 4, 1, 2, 3, 1, 2, 1]\n",
    "element_counts = count_elements(lst)\n",
    "print(element_counts)\n"
   ]
  }
 ],
 "metadata": {
  "kernelspec": {
   "display_name": "Python 3 (ipykernel)",
   "language": "python",
   "name": "python3"
  },
  "language_info": {
   "codemirror_mode": {
    "name": "ipython",
    "version": 3
   },
   "file_extension": ".py",
   "mimetype": "text/x-python",
   "name": "python",
   "nbconvert_exporter": "python",
   "pygments_lexer": "ipython3",
   "version": "3.12.3"
  }
 },
 "nbformat": 4,
 "nbformat_minor": 5
}
