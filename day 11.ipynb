{
 "cells": [
  {
   "cell_type": "code",
   "execution_count": 21,
   "id": "07eb6869",
   "metadata": {},
   "outputs": [
    {
     "name": "stdout",
     "output_type": "stream",
     "text": [
      "1 --> 2 --> 3 --> 4 --> 5 --> None -->\n"
     ]
    }
   ],
   "source": [
    "class node:\n",
    "    def __init__(self,value):\n",
    "        self.data=value\n",
    "        self.next=None\n",
    "        \n",
    "Head=node(1)\n",
    "Head.next=node(2)\n",
    "Head.next.next=node(3)\n",
    "Head.next.next.next=node(4)\n",
    "Head.next.next.next.next=node(5)\n",
    "\n",
    "print(Head.data,\"-->\",\n",
    "Head.next.data,\"-->\",\n",
    "Head.next.next.data,\"-->\",\n",
    "Head.next.next.next.data,\"-->\",\n",
    "Head.next.next.next.next.data,\"-->\",\n",
    "Head.next.next.next.next.next,\"-->\")\n",
    "    \n",
    "\n"
   ]
  },
  {
   "cell_type": "code",
   "execution_count": 22,
   "id": "c9c5e4db",
   "metadata": {},
   "outputs": [
    {
     "name": "stdout",
     "output_type": "stream",
     "text": [
      "1 --> 2 --> 3 --> 4 --> 5 --> None -->\n"
     ]
    }
   ],
   "source": [
    "print(Head.data,\"-->\",\n",
    "Head.next.data,\"-->\",\n",
    "Head.next.next.data,\"-->\",\n",
    "Head.next.next.next.data,\"-->\",\n",
    "Head.next.next.next.next.data,\"-->\",\n",
    "      Head.next.next.next.next.next,\"-->\")"
   ]
  },
  {
   "cell_type": "code",
   "execution_count": 41,
   "id": "4e473927",
   "metadata": {},
   "outputs": [
    {
     "name": "stdout",
     "output_type": "stream",
     "text": [
      "1 --> 2 --> 3 --> 4 --> 12 --> 12 --> 5 --> "
     ]
    }
   ],
   "source": [
    "curr = Head\n",
    "\n",
    "\n",
    "while curr!=None:\n",
    "    print(curr.data,\"-->\",end=\" \")\n",
    "    curr=curr.next"
   ]
  },
  {
   "cell_type": "code",
   "execution_count": 42,
   "id": "d80080dd",
   "metadata": {},
   "outputs": [
    {
     "name": "stdout",
     "output_type": "stream",
     "text": [
      "Enter the location Value: 4\n",
      "Enter the Value: 12\n"
     ]
    }
   ],
   "source": [
    "L = int(input(\"Enter the location Value: \"))\n",
    "X = int(input(\"Enter the Value: \"))\n",
    "curr = Head\n",
    "while curr !=None:\n",
    "    if(curr.data == L):\n",
    "        break\n",
    "    curr=curr.next\n",
    "temp=node(X)\n",
    "temp.next=curr.next\n",
    "curr.next=temp"
   ]
  },
  {
   "cell_type": "code",
   "execution_count": 40,
   "id": "8c3f3b42",
   "metadata": {},
   "outputs": [
    {
     "name": "stdout",
     "output_type": "stream",
     "text": [
      "1 --> 2 --> 3 --> 4 --> 12 --> 12 --> 5 --> "
     ]
    }
   ],
   "source": [
    "curr = Head\n",
    "\n",
    "\n",
    "while curr!=None:\n",
    "    print(curr.data,\"-->\",end=\" \")\n",
    "    curr=curr.next"
   ]
  },
  {
   "cell_type": "code",
   "execution_count": 21,
   "id": "47ad7844",
   "metadata": {},
   "outputs": [
    {
     "name": "stdout",
     "output_type": "stream",
     "text": [
      "1\n",
      "2\n",
      "4\n",
      "6\n",
      "3\n",
      "7\n",
      "5\n",
      "<function preorder at 0x000002BDBAF7F740>\n"
     ]
    }
   ],
   "source": [
    "#preorder\n",
    "class node:\n",
    "    def __init__(self,value):\n",
    "        self.data=value\n",
    "        self.left=None\n",
    "        self.right=None\n",
    "\n",
    "def preorder(root):\n",
    "    if root == None:\n",
    "        return\n",
    "    print(root.data)\n",
    "    preorder(root.left)\n",
    "    preorder(root.right)\n",
    "    \n",
    "\n",
    "root = node(1)\n",
    "root.left= node(2)\n",
    "root.right = node(3)\n",
    "\n",
    "root.left.left = node(4)\n",
    "root.right.right = node(5)\n",
    "\n",
    "root.left.right = node(6)\n",
    "root.right.left = node(7)\n",
    "\n",
    "\n",
    "preorder(root)\n",
    "print(preorder)"
   ]
  },
  {
   "cell_type": "code",
   "execution_count": 18,
   "id": "c96714e0",
   "metadata": {},
   "outputs": [
    {
     "name": "stdout",
     "output_type": "stream",
     "text": [
      "4\n",
      "2\n",
      "6\n",
      "1\n",
      "7\n",
      "3\n",
      "5\n",
      "<function inorder at 0x000002BDBAD8C540>\n"
     ]
    }
   ],
   "source": [
    "#inorder\n",
    "class node:\n",
    "    def __init__(self,value):\n",
    "        self.data=value\n",
    "        self.left=None\n",
    "        self.right=None\n",
    "        \n",
    "def inorder(root):\n",
    "    if root == None:\n",
    "        return\n",
    "    inorder(root.left)\n",
    "    print(root.data)\n",
    "    inorder(root.right)\n",
    "    \n",
    "root = node(1)\n",
    "root.left= node(2)\n",
    "root.right = node(3)\n",
    "\n",
    "root.left.left = node(4)\n",
    "root.right.right = node(5)\n",
    "\n",
    "root.left.right = node(6)\n",
    "root.right.left = node(7)\n",
    "\n",
    "inorder(root)\n",
    "print(inorder)"
   ]
  },
  {
   "cell_type": "code",
   "execution_count": 19,
   "id": "37c99f67",
   "metadata": {},
   "outputs": [
    {
     "name": "stdout",
     "output_type": "stream",
     "text": [
      "4\n",
      "6\n",
      "2\n",
      "7\n",
      "5\n",
      "3\n",
      "1\n",
      "<function postorder at 0x000002BDBAD8D580>\n"
     ]
    }
   ],
   "source": [
    "#postorder\n",
    "class node:\n",
    "    def __init__(self,value):\n",
    "        self.data=value\n",
    "        self.left=None\n",
    "        self.right=None\n",
    "        \n",
    "def postorder(root):\n",
    "    if root == None:\n",
    "        return\n",
    "    postorder(root.left)\n",
    "    postorder(root.right)\n",
    "    print(root.data)\n",
    "    \n",
    "root = node(1)\n",
    "root.left= node(2)\n",
    "root.right = node(3)\n",
    "\n",
    "root.left.left = node(4)\n",
    "root.right.right = node(5)\n",
    "\n",
    "root.left.right = node(6)\n",
    "root.right.left = node(7)\n",
    "\n",
    "postorder(root)\n",
    "print(postorder)"
   ]
  },
  {
   "cell_type": "code",
   "execution_count": null,
   "id": "6f7d5a69",
   "metadata": {},
   "outputs": [],
   "source": []
  },
  {
   "cell_type": "code",
   "execution_count": 1,
   "id": "1131b07e",
   "metadata": {},
   "outputs": [
    {
     "name": "stdout",
     "output_type": "stream",
     "text": [
      "1 \n",
      "2 3 \n",
      "4 6 7 5 \n",
      "<function levelorder at 0x000002C57AAF9080>\n"
     ]
    }
   ],
   "source": [
    "#LevelOrder\n",
    "class node:\n",
    "    def __init__(self,value):\n",
    "        self.data=value\n",
    "        self.left=None\n",
    "        self.right=None\n",
    "\n",
    "def levelorder(root):\n",
    "    Q=[root,None]\n",
    "    while Q:\n",
    "        curr = Q.pop(0)\n",
    "        if curr == None:\n",
    "            print()\n",
    "            if Q:\n",
    "                Q.append(curr)\n",
    "        else:\n",
    "            print(curr.data,end=\" \")\n",
    "            if curr.left != None:\n",
    "                Q.append(curr.left)\n",
    "            if curr.right != None:\n",
    "                Q.append(curr.right)\n",
    "                \n",
    "                \n",
    "root = node(1)\n",
    "root.left= node(2)\n",
    "root.right = node(3)\n",
    "\n",
    "root.left.left = node(4)\n",
    "root.right.right = node(5)\n",
    "\n",
    "root.left.right = node(6)\n",
    "root.right.left = node(7)\n",
    "\n",
    "levelorder(root)\n",
    "print(levelorder)"
   ]
  },
  {
   "cell_type": "code",
   "execution_count": null,
   "id": "1c542c09",
   "metadata": {},
   "outputs": [],
   "source": []
  }
 ],
 "metadata": {
  "kernelspec": {
   "display_name": "Python 3 (ipykernel)",
   "language": "python",
   "name": "python3"
  },
  "language_info": {
   "codemirror_mode": {
    "name": "ipython",
    "version": 3
   },
   "file_extension": ".py",
   "mimetype": "text/x-python",
   "name": "python",
   "nbconvert_exporter": "python",
   "pygments_lexer": "ipython3",
   "version": "3.11.0"
  }
 },
 "nbformat": 4,
 "nbformat_minor": 5
}
